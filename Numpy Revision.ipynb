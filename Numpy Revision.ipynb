{
 "cells": [
  {
   "cell_type": "markdown",
   "id": "ffcedfb3",
   "metadata": {},
   "source": [
    "# NUMPY Creating Arrays"
   ]
  },
  {
   "cell_type": "raw",
   "id": "40bee784",
   "metadata": {},
   "source": [
    "1.Insert the correct method for creating a NumPy array"
   ]
  },
  {
   "cell_type": "code",
   "execution_count": 2,
   "id": "6e80919f",
   "metadata": {},
   "outputs": [],
   "source": [
    "import numpy as np\n",
    "arr = np.array([1, 2, 3, 4, 5])"
   ]
  },
  {
   "cell_type": "raw",
   "id": "5f6ff59a",
   "metadata": {},
   "source": [
    "2. Insert the correct argument for creating a Numpy array with 2 dimensions."
   ]
  },
  {
   "cell_type": "code",
   "execution_count": 3,
   "id": "87ade419",
   "metadata": {},
   "outputs": [],
   "source": [
    "arr = np.array([1, 2, 3, 4], ndmin=2)"
   ]
  },
  {
   "cell_type": "raw",
   "id": "7ad60b85",
   "metadata": {},
   "source": [
    "3. Insert the correct syntax for checking the number of dimension of a NumPy array"
   ]
  },
  {
   "cell_type": "code",
   "execution_count": 6,
   "id": "57230cb7",
   "metadata": {},
   "outputs": [
    {
     "name": "stdout",
     "output_type": "stream",
     "text": [
      "1\n"
     ]
    }
   ],
   "source": [
    "arr = np.array([1, 2, 3, 4])\n",
    "print(arr.ndim)"
   ]
  },
  {
   "cell_type": "markdown",
   "id": "75d383fa",
   "metadata": {},
   "source": [
    "# NUMPY Indexing Arrays"
   ]
  },
  {
   "cell_type": "raw",
   "id": "260646ae",
   "metadata": {},
   "source": [
    "1. Insert the correct syntax for printing the first item in the array.[1,2,3,4,5]"
   ]
  },
  {
   "cell_type": "code",
   "execution_count": 2,
   "id": "908db4bf",
   "metadata": {},
   "outputs": [
    {
     "name": "stdout",
     "output_type": "stream",
     "text": [
      "1\n"
     ]
    }
   ],
   "source": [
    "import numpy as np\n",
    "arr = np.array([1, 2, 3, 4, 5])\n",
    "print(arr[0])"
   ]
  },
  {
   "cell_type": "raw",
   "id": "643449a9",
   "metadata": {},
   "source": [
    "2. Insert the coorect syntax for printing the number 50 from the array.[10,20,30,40,50]"
   ]
  },
  {
   "cell_type": "code",
   "execution_count": 3,
   "id": "f735278b",
   "metadata": {},
   "outputs": [
    {
     "name": "stdout",
     "output_type": "stream",
     "text": [
      "50\n"
     ]
    }
   ],
   "source": [
    "arr = np.array([10, 20, 30, 40, 50])\n",
    "print(arr[4])"
   ]
  },
  {
   "cell_type": "raw",
   "id": "40e652fa",
   "metadata": {},
   "source": [
    "3. Insert the coorect syntax for printing the number 50 from the array.10,20,30,40,50,60,70,80"
   ]
  },
  {
   "cell_type": "code",
   "execution_count": 4,
   "id": "e8921787",
   "metadata": {},
   "outputs": [
    {
     "name": "stdout",
     "output_type": "stream",
     "text": [
      "50\n"
     ]
    }
   ],
   "source": [
    "arr = np.array([[10, 20, 30, 40], [50, 60, 70, 80]])\n",
    "print(arr[1, 0])"
   ]
  },
  {
   "cell_type": "raw",
   "id": "c59aa2ec",
   "metadata": {},
   "source": [
    "4. Use negative index to print the last item in the array."
   ]
  },
  {
   "cell_type": "code",
   "execution_count": 5,
   "id": "9f7c2fdb",
   "metadata": {},
   "outputs": [
    {
     "name": "stdout",
     "output_type": "stream",
     "text": [
      "50\n"
     ]
    }
   ],
   "source": [
    "arr = np.array([10, 20, 30, 40, 50])\n",
    "print(arr[-1])"
   ]
  },
  {
   "cell_type": "markdown",
   "id": "65423375",
   "metadata": {},
   "source": [
    "# NUMPY Slicing Arrays"
   ]
  },
  {
   "cell_type": "raw",
   "id": "203314ed",
   "metadata": {},
   "source": [
    "1. Insert the coorect slicing syntax to print the following selection of the array:\n",
    "    Everything from (including) the second item to (not including) the fifth item."
   ]
  },
  {
   "cell_type": "code",
   "execution_count": 2,
   "id": "eb44f504",
   "metadata": {},
   "outputs": [
    {
     "name": "stdout",
     "output_type": "stream",
     "text": [
      "[15 20 25]\n"
     ]
    }
   ],
   "source": [
    "import numpy as np\n",
    "arr = np.array([10, 15, 20, 25, 30, 35, 40])\n",
    "print(arr[1:4])"
   ]
  },
  {
   "cell_type": "raw",
   "id": "dc841495",
   "metadata": {},
   "source": [
    "2. Insert the correct slicing syntax to print the following selection of the array:\n",
    "    Everything from (including) the third item to (not including) the fifth item."
   ]
  },
  {
   "cell_type": "code",
   "execution_count": 2,
   "id": "5e1fc60e",
   "metadata": {},
   "outputs": [
    {
     "name": "stdout",
     "output_type": "stream",
     "text": [
      "[20 25]\n"
     ]
    }
   ],
   "source": [
    "import numpy as np\n",
    "arr = np.array([10, 15, 20, 25, 30, 35, 40])\n",
    "print(arr[2:4])"
   ]
  },
  {
   "cell_type": "raw",
   "id": "575a629c",
   "metadata": {},
   "source": [
    "3. Insert the correct slicing to print the following selection of the array:\n",
    "    Every other item from (including) the second item to (not including) the fifth item.\n",
    "    Tip: use the step syntax."
   ]
  },
  {
   "cell_type": "code",
   "execution_count": 3,
   "id": "0b15d68e",
   "metadata": {},
   "outputs": [
    {
     "name": "stdout",
     "output_type": "stream",
     "text": [
      "[15 25]\n"
     ]
    }
   ],
   "source": [
    "arr = np.array([10, 15, 20, 25, 30, 35, 40])\n",
    "print(arr[1:4:2])"
   ]
  },
  {
   "cell_type": "raw",
   "id": "d0b87fed",
   "metadata": {},
   "source": [
    "4. Insert the correct slicing syntax to print the following selection of the array.\n",
    "Every other item from the entire array.\n",
    "Tip: use the step syntax"
   ]
  },
  {
   "cell_type": "code",
   "execution_count": 4,
   "id": "41255337",
   "metadata": {},
   "outputs": [
    {
     "name": "stdout",
     "output_type": "stream",
     "text": [
      "[10 20 30 40]\n"
     ]
    }
   ],
   "source": [
    "arr = np.array([10, 15, 20, 25, 30, 35, 40])\n",
    "print(arr[::2])"
   ]
  },
  {
   "cell_type": "markdown",
   "id": "0968b479",
   "metadata": {},
   "source": [
    "# NUMPY Data Types"
   ]
  },
  {
   "cell_type": "raw",
   "id": "0aa6d4f1",
   "metadata": {},
   "source": [
    "1. NumPy uses a character to represent each of the following data types, which one?"
   ]
  },
  {
   "cell_type": "raw",
   "id": "1201d561",
   "metadata": {},
   "source": [
    "i = integer\n",
    "b = boolean\n",
    "u = unsigned integer\n",
    "f = float\n",
    "c = complex float\n",
    "m = timedelta\n",
    "M = datatime\n",
    "O = object\n",
    "S = string"
   ]
  },
  {
   "cell_type": "raw",
   "id": "53fd9705",
   "metadata": {},
   "source": [
    "2. Insert the correct NumPy syntax to print the data type of an array."
   ]
  },
  {
   "cell_type": "code",
   "execution_count": 5,
   "id": "8eff0bd7",
   "metadata": {},
   "outputs": [
    {
     "name": "stdout",
     "output_type": "stream",
     "text": [
      "int32\n"
     ]
    }
   ],
   "source": [
    "import numpy as np\n",
    "arr = np.array([1, 2, 3, 4])\n",
    "print(arr.dtype)"
   ]
  },
  {
   "cell_type": "raw",
   "id": "51de8ae9",
   "metadata": {},
   "source": [
    "3. Insert the correct argument to specify that the array should be of type STRING."
   ]
  },
  {
   "cell_type": "code",
   "execution_count": 6,
   "id": "535893a8",
   "metadata": {},
   "outputs": [],
   "source": [
    "arr = np.array([1, 2, 3, 4], dtype='S')"
   ]
  },
  {
   "cell_type": "code",
   "execution_count": 7,
   "id": "e5c8dbbc",
   "metadata": {},
   "outputs": [
    {
     "name": "stdout",
     "output_type": "stream",
     "text": [
      "[b'1' b'2' b'3' b'4']\n"
     ]
    }
   ],
   "source": [
    "print(arr)"
   ]
  },
  {
   "cell_type": "raw",
   "id": "8abb5568",
   "metadata": {},
   "source": [
    "4. Insert the correct method to change the data type to integer."
   ]
  },
  {
   "cell_type": "code",
   "execution_count": 8,
   "id": "bef6ed34",
   "metadata": {},
   "outputs": [],
   "source": [
    "arr = np.array([1.1, 2.1, 3.1])\n",
    "newarr = arr.astype('i')"
   ]
  },
  {
   "cell_type": "markdown",
   "id": "b74c8104",
   "metadata": {},
   "source": [
    "# NUMPY Copy Vs View"
   ]
  },
  {
   "cell_type": "raw",
   "id": "fa8fc935",
   "metadata": {},
   "source": [
    "1. Use the correct method to make a copy of the array."
   ]
  },
  {
   "cell_type": "code",
   "execution_count": 3,
   "id": "243acf00",
   "metadata": {},
   "outputs": [
    {
     "name": "stdout",
     "output_type": "stream",
     "text": [
      "[1 2 3 4 5]\n"
     ]
    }
   ],
   "source": [
    "import numpy as np\n",
    "arr=np.array([1, 2, 3, 4, 5])\n",
    "x=arr.copy()\n",
    "print(x)"
   ]
  },
  {
   "cell_type": "raw",
   "id": "284660c6",
   "metadata": {},
   "source": [
    "2. Use the correct method to make a copy of the array."
   ]
  },
  {
   "cell_type": "code",
   "execution_count": 5,
   "id": "22f4de91",
   "metadata": {},
   "outputs": [
    {
     "name": "stdout",
     "output_type": "stream",
     "text": [
      "[1 2 3 4 5]\n"
     ]
    }
   ],
   "source": [
    "arr = np.array([1, 2, 3, 4, 5])\n",
    "x=arr.view()\n",
    "print(x)"
   ]
  },
  {
   "cell_type": "markdown",
   "id": "92b1e8c1",
   "metadata": {},
   "source": [
    "# NUMPY Array Shape"
   ]
  },
  {
   "cell_type": "raw",
   "id": "34844d6e",
   "metadata": {},
   "source": [
    "1. Use the correct NumPy syntax to check the shape of an array."
   ]
  },
  {
   "cell_type": "code",
   "execution_count": 6,
   "id": "ed09feb1",
   "metadata": {},
   "outputs": [
    {
     "name": "stdout",
     "output_type": "stream",
     "text": [
      "(5,)\n"
     ]
    }
   ],
   "source": [
    "arr = np.array([1, 2, 3, 4, 5])\n",
    "print(arr.shape)"
   ]
  },
  {
   "cell_type": "raw",
   "id": "5347a386",
   "metadata": {},
   "source": [
    "2. Use the correct NumPy method to change the shape of an array from 1-D to 2-D."
   ]
  },
  {
   "cell_type": "code",
   "execution_count": 11,
   "id": "d93b0e7c",
   "metadata": {},
   "outputs": [],
   "source": [
    "import numpy as np\n",
    "arr = np.array([1, 2, 3, 4, 5, 6, 7, 8, 9, 10, 11, 12])\n",
    "newarr = arr.reshape(4, 3)\n"
   ]
  },
  {
   "cell_type": "raw",
   "id": "b19db804",
   "metadata": {},
   "source": [
    "3. Use a correct NumPy method to change the shape of an array from 2-D to 1-D."
   ]
  },
  {
   "cell_type": "code",
   "execution_count": 14,
   "id": "7581a78f",
   "metadata": {},
   "outputs": [
    {
     "name": "stdout",
     "output_type": "stream",
     "text": [
      "[[ 1  2  3  4  5  6]\n",
      " [ 7  8  9 10 11 12]]\n"
     ]
    }
   ],
   "source": [
    "arr = np.array([[1, 2, 3, 4, 5, 6], [7, 8, 9, 10, 11, 12]])\n",
    "newarr = arr.reshape(-1)\n",
    "print(arr)"
   ]
  },
  {
   "cell_type": "markdown",
   "id": "cd717f8c",
   "metadata": {},
   "source": [
    "# NUMPY Joining Array"
   ]
  },
  {
   "cell_type": "raw",
   "id": "0d5cb842",
   "metadata": {},
   "source": [
    "1. Use a correct Numpy method to join two arrays into a single array."
   ]
  },
  {
   "cell_type": "code",
   "execution_count": 15,
   "id": "c048b1bc",
   "metadata": {},
   "outputs": [],
   "source": [
    "arr1 = np.array([1, 2, 3])\n",
    "arr2 = np.array([4, 5, 6])\n",
    "arr = np.concatenate((arr1, arr2))"
   ]
  },
  {
   "cell_type": "markdown",
   "id": "126753bb",
   "metadata": {},
   "source": [
    "# NUMPY Array Search"
   ]
  },
  {
   "cell_type": "raw",
   "id": "91d22b78",
   "metadata": {},
   "source": [
    "1. Use the correct Numpy metod to find all items with the value 4."
   ]
  },
  {
   "cell_type": "code",
   "execution_count": 3,
   "id": "ebb78298",
   "metadata": {},
   "outputs": [],
   "source": [
    "import numpy as np\n",
    "arr = np.array([1, 2, 3, 4, 5, 4, 4])\n",
    "x = np.where(arr == 4)"
   ]
  },
  {
   "cell_type": "code",
   "execution_count": null,
   "id": "8610ef34",
   "metadata": {},
   "outputs": [],
   "source": []
  }
 ],
 "metadata": {
  "kernelspec": {
   "display_name": "Python 3 (ipykernel)",
   "language": "python",
   "name": "python3"
  },
  "language_info": {
   "codemirror_mode": {
    "name": "ipython",
    "version": 3
   },
   "file_extension": ".py",
   "mimetype": "text/x-python",
   "name": "python",
   "nbconvert_exporter": "python",
   "pygments_lexer": "ipython3",
   "version": "3.9.13"
  }
 },
 "nbformat": 4,
 "nbformat_minor": 5
}
